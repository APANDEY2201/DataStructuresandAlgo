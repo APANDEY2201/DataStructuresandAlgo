{
 "cells": [
  {
   "cell_type": "markdown",
   "metadata": {},
   "source": [
    "### Task 1: \n",
    "\n",
    "LIS or longest increasing subsequence problem in data structures - Dynamic Programming"
   ]
  },
  {
   "cell_type": "code",
   "execution_count": 3,
   "metadata": {},
   "outputs": [
    {
     "name": "stdout",
     "output_type": "stream",
     "text": [
      "\n",
      "Length of Longest Increasing Subsequence is: 6\n"
     ]
    }
   ],
   "source": [
    "def lenOfLIS(nums):\n",
    "    if not nums: \n",
    "        return 0\n",
    "    \n",
    "    dp = [1] * len(nums)\n",
    "    for i in range(1, len(nums)):\n",
    "        for j in range(i):\n",
    "            if nums[j] < nums[i]:\n",
    "                dp[i] = max (dp[i], dp[j]+1)\n",
    "    \n",
    "    return max(dp)\n",
    "\n",
    "\n",
    "#example usage\n",
    "arr = [10, 22, 9, 33, 21, 50, 41, 60, 80]\n",
    "print(\"\")\n",
    "print(\"Length of Longest Increasing Subsequence is:\", lenOfLIS(arr))"
   ]
  },
  {
   "cell_type": "markdown",
   "metadata": {},
   "source": [
    "### Task 2:\n",
    "\n",
    "Check if pair with the given Sum exists in Array\n",
    "\n",
    "\n",
    "Given an array A[] of n numbers and another number x, the task is to check whether or not there exist two elements in A[] whose sum is exactly x. \n",
    "\n",
    "Examples: \n",
    "\n",
    "Input: arr[] = {0, -1, 2, -3, 1}, x= -2\n",
    "Output: Yes\n",
    "Explanation:  If we calculate the sum of the output,1 + (-3) = -2\n",
    "Input: arr[] = {1, -2, 1, 0, 5}, x = 0\n",
    "Output: No"
   ]
  },
  {
   "cell_type": "code",
   "execution_count": 4,
   "metadata": {},
   "outputs": [],
   "source": [
    "def hasPairWithSum(arr, x):\n",
    "    #create an empty hashset\n",
    "    hash_set =set()\n",
    "\n",
    "    # Traverse the array\n",
    "    for i in range(len(arr)):\n",
    "        # check if there's a number which can be added arr[i] to get x\n",
    "        temp = x - arr[i]\n",
    "        #if temp is in hash set we return YES\n",
    "        if temp in hash_set:\n",
    "            return \"Yes\"\n",
    "        hash_set.add(arr[i])\n",
    "    return \"No\"\n",
    "\n",
    "        "
   ]
  },
  {
   "cell_type": "code",
   "execution_count": 5,
   "metadata": {},
   "outputs": [
    {
     "name": "stdout",
     "output_type": "stream",
     "text": [
      "Test 1 - Output: Yes\n",
      "Test 2 - Output: No\n"
     ]
    }
   ],
   "source": [
    "# Test the function with example inputs\n",
    "arr1 = [0, -1, 2, -3, 1]\n",
    "x1 = -2\n",
    "print(\"Test 1 - Output:\", hasPairWithSum(arr1, x1))\n",
    "\n",
    "arr2 = [1, -2, 1, 0, 5]\n",
    "x2 = 0\n",
    "print(\"Test 2 - Output:\", hasPairWithSum(arr2, x2))"
   ]
  },
  {
   "cell_type": "markdown",
   "metadata": {},
   "source": [
    "### Task 3\n",
    "\n",
    "Best Time to Buy and Sell Stock\n",
    "\n",
    "\n",
    "Given an array prices[] of length N, representing the prices of the stocks on different days, the task is to find the maximum profit possible by buying and selling the stocks on different days when at most one transaction is allowed.\n",
    "\n",
    "Note: Stock must be bought before being sold.\n",
    "\n",
    "Examples:\n",
    "\n",
    "Input: prices[] = {7, 1, 5, 3, 6, 4}\n",
    "Output: 5\n",
    "Explanation:\n",
    "The lowest price of the stock is on the 2nd day, i.e. price = 1. Starting from the 2nd day, the highest price of the stock is witnessed on the 5th day, i.e. price = 6. \n",
    "Therefore, maximum possible profit = 6 – 1 = 5. \n",
    "\n",
    "Input: prices[] = {7, 6, 4, 3, 1} \n",
    "Output: 0\n",
    "Explanation: Since the array is in decreasing order, no possible way exists to solve the problem."
   ]
  },
  {
   "cell_type": "code",
   "execution_count": 10,
   "metadata": {},
   "outputs": [],
   "source": [
    "def maxProfit(prices):\n",
    "    # initiliaze variables\n",
    "    min_price = float('inf')\n",
    "    max_profit =0\n",
    "\n",
    "    #iterate through the list of price\n",
    "    for price in prices:\n",
    "        # update the min_price if the current price is lower\n",
    "        if price<min_price:\n",
    "            min_price=price\n",
    "        # calculate the profit by subtracting the current price with the min_price\n",
    "        elif price - min_price > max_profit:\n",
    "            max_profit = price - min_price\n",
    "    return max_profit"
   ]
  },
  {
   "cell_type": "code",
   "execution_count": 11,
   "metadata": {},
   "outputs": [
    {
     "name": "stdout",
     "output_type": "stream",
     "text": [
      "Test 1 - Maximum Profit: 5\n",
      "Test 2 - Maximum Profit: 0\n"
     ]
    }
   ],
   "source": [
    "# Test the function with example inputs\n",
    "prices1 = [7, 1, 5, 3, 6, 4]\n",
    "print(\"Test 1 - Maximum Profit:\", maxProfit(prices1))\n",
    "\n",
    "prices2 = [7, 6, 4, 3, 1]\n",
    "print(\"Test 2 - Maximum Profit:\", maxProfit(prices2))"
   ]
  },
  {
   "cell_type": "markdown",
   "metadata": {},
   "source": [
    "### Task 4:\n",
    "\n",
    "Find duplicates\n",
    "\n",
    "\n",
    "Given an array of n elements that contains elements from 0 to n-1, with any of these numbers appearing any number of times. Find these repeating numbers in O(n) and use only constant memory space.\n",
    "\n",
    "Note: The repeating element should be printed only once.\n",
    "\n",
    "Example: \n",
    "\n",
    "Input: n=7 , array[]={1, 2, 3, 6, 3, 6, 1}\n",
    "Output: 1, 3, 6\n",
    "Explanation: The numbers 1 , 3 and 6 appears more than once in the array.\n",
    "\n"
   ]
  },
  {
   "cell_type": "code",
   "execution_count": 14,
   "metadata": {},
   "outputs": [],
   "source": [
    "def printRepeating(arr, n):\n",
    "    #increment array elements to mark the presence\n",
    "    for i in range(n):\n",
    "        index = arr[i] % n\n",
    "        arr[index] += n\n",
    "\n",
    "    #check which elements are repeating\n",
    "    print(\"Repeating elements are::\", end =' ')\n",
    "    for i in range(n):\n",
    "        if arr[i]//n > 1:\n",
    "            print(i, end = ' ') \n"
   ]
  },
  {
   "cell_type": "code",
   "execution_count": 15,
   "metadata": {},
   "outputs": [
    {
     "name": "stdout",
     "output_type": "stream",
     "text": [
      "Repeating elements are:: 1 3 6 "
     ]
    }
   ],
   "source": [
    "# example usage \n",
    "arr = [1, 2, 3, 6, 3, 6, 1, 7, 10]\n",
    "\n",
    "n = len(arr)\n",
    "printRepeating(arr, n)"
   ]
  },
  {
   "cell_type": "markdown",
   "metadata": {},
   "source": [
    "### Task 5: \n",
    "Product of Array except itself\n",
    "\n",
    "\n",
    "Given an array arr[] of n integers, construct a Product Array prod[] (of the same size) such that prod[i] is equal to the product of all the elements of arr[] except arr[i]. \n",
    "\n",
    "Note: Solve it without the division operator in O(n) time.\n",
    "\n",
    "Example : \n",
    "\n",
    "Input: arr[]  = {10, 3, 5, 6, 2}\n",
    "Output: prod[]  = {180, 600, 360, 300, 900}\n",
    "3 * 5 * 6 * 2 product of other array \n",
    "elements except 10 is 180\n",
    "10 * 5 * 6 * 2 product of other array \n",
    "elements except 3 is 600\n",
    "10 * 3 * 6 * 2 product of other array \n",
    "elements except 5 is 360\n",
    "10 * 3 * 5 * 2 product of other array \n",
    "elements except 6 is 300\n",
    "10 * 3 * 6 * 5 product of other array \n",
    "elements except 2 is 900\n",
    "\n",
    "\n",
    "Input: arr[]  = {1, 2, 3, 4, 5}\n",
    "Output: prod[]  = {120, 60, 40, 30, 24 }\n",
    "2 * 3 * 4 * 5  product of other array \n",
    "elements except 1 is 120\n",
    "1 * 3 * 4 * 5  product of other array \n",
    "elements except 2 is 60\n",
    "1 * 2 * 4 * 5  product of other array \n",
    "elements except 3 is 40\n",
    "1 * 2 * 3 * 5  product of other array \n",
    "elements except 4 is 30\n",
    "1 * 2 * 3 * 4  product of other array \n",
    "elements except 5 is 24"
   ]
  },
  {
   "cell_type": "code",
   "execution_count": 16,
   "metadata": {},
   "outputs": [],
   "source": [
    "def productArray(arr):\n",
    "    n = len(arr)    \n",
    "    prod = [1] * n # initialize product array as 1\n",
    "\n",
    "    temp = 1\n",
    "    # In this loop, temp variable contains product of elements on left side excluding arr[i]\n",
    "\n",
    "    for i in range(n):\n",
    "        prod[i] = temp\n",
    "        temp *=arr[i]\n",
    "\n",
    "    temp = 1\n",
    "    # In this loop, temp variable contains product of elements on right side excluding arr[i]\n",
    "    for i in range(n-1, -1, -1):\n",
    "        prod[i] *=temp\n",
    "        temp *= arr[i]\n",
    "\n",
    "    return prod \n"
   ]
  },
  {
   "cell_type": "code",
   "execution_count": 17,
   "metadata": {},
   "outputs": [
    {
     "name": "stdout",
     "output_type": "stream",
     "text": [
      "Product Array 1: [180, 600, 360, 300, 900]\n",
      "Product Array 2: [120, 60, 40, 30, 24]\n"
     ]
    }
   ],
   "source": [
    "# Example usage\n",
    "arr1 = [10, 3, 5, 6, 2]\n",
    "print(\"Product Array 1:\", productArray(arr1))\n",
    "\n",
    "arr2 = [1, 2, 3, 4, 5]\n",
    "print(\"Product Array 2:\", productArray(arr2))"
   ]
  },
  {
   "cell_type": "markdown",
   "metadata": {},
   "source": [
    "### Task6:\n",
    "Largest Sum Contiguous Subarray (Kadane’s Algorithm)\n",
    "Given an array arr[] of size N. The task is to find the sum of the contiguous subarray within a arr[] with the largest sum. \n",
    "\n"
   ]
  },
  {
   "cell_type": "code",
   "execution_count": 18,
   "metadata": {},
   "outputs": [],
   "source": [
    "def maxSubArraySum(arr):\n",
    "    max_so_far = arr[0] \n",
    "    max_ending_here = arr[0]\n",
    "\n",
    "    for i in range(1, len(arr)):\n",
    "        # for handling negative numbers, \n",
    "        # use max between current element and current element + max_ending_here\n",
    "        max_ending_here = max(arr[i], max_ending_here + arr[i])\n",
    "        max_so_far = max(max_so_far, max_ending_here)\n",
    "    \n",
    "    return max_so_far\n"
   ]
  },
  {
   "cell_type": "code",
   "execution_count": 19,
   "metadata": {},
   "outputs": [
    {
     "name": "stdout",
     "output_type": "stream",
     "text": [
      "Maximum contiguous sum is 7\n"
     ]
    }
   ],
   "source": [
    "# Example\n",
    "arr = [-2, -3, 4, -1, -2, 1, 5, -3]\n",
    "print(\"Maximum contiguous sum is\", maxSubArraySum(arr))"
   ]
  },
  {
   "cell_type": "code",
   "execution_count": null,
   "metadata": {},
   "outputs": [],
   "source": []
  }
 ],
 "metadata": {
  "kernelspec": {
   "display_name": "venv",
   "language": "python",
   "name": "python3"
  },
  "language_info": {
   "codemirror_mode": {
    "name": "ipython",
    "version": 3
   },
   "file_extension": ".py",
   "mimetype": "text/x-python",
   "name": "python",
   "nbconvert_exporter": "python",
   "pygments_lexer": "ipython3",
   "version": "3.10.5"
  }
 },
 "nbformat": 4,
 "nbformat_minor": 2
}
